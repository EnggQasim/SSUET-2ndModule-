{
 "cells": [
  {
   "cell_type": "code",
   "execution_count": 3,
   "metadata": {},
   "outputs": [
    {
     "name": "stdout",
     "output_type": "stream",
     "text": [
      "Tensor(\"Neg:0\", shape=(1, 2), dtype=int32)\n"
     ]
    }
   ],
   "source": [
    "#2.5\n",
    "import tensorflow as tf\n",
    "\n",
    "x=tf.constant([[1,2]])\n",
    "neg_x = tf.negative(x)\n",
    "print(neg_x)"
   ]
  },
  {
   "cell_type": "code",
   "execution_count": 4,
   "metadata": {},
   "outputs": [
    {
     "name": "stdout",
     "output_type": "stream",
     "text": [
      "[[-1. -2.]]\n"
     ]
    }
   ],
   "source": [
    "#2.6\n",
    "x = tf.constant([[1.,2.]])\n",
    "neg_op = tf.negative(x)\n",
    "\n",
    "with tf.Session() as sess:\n",
    "    result = sess.run(neg_op)\n",
    "    \n",
    "print(result)"
   ]
  },
  {
   "cell_type": "code",
   "execution_count": null,
   "metadata": {
    "collapsed": true
   },
   "outputs": [],
   "source": [
    "a=tf.constant(1)\n",
    "b=tf.constant(2)\n",
    "c=tf.constant(3)\n",
    "op=tf.negative(\n",
    "    tf.add(b,tf.sqrt(tf.subtract(\n",
    "        tf.multiply(b,b),tf.multiply([4],a,c)\n",
    "                            tf.mulptiply([[4],a,c]))))\n",
    "#b+sqrt(b*b-4*a*c))/2*a\n",
    "\n",
    "with tf.Session() as sess:\n",
    "    #b2=tf.multiply(b,b)\n",
    "    #acm=tf.multiply([[4]],a,c)\n",
    "    #sb=tf.subtract(b2-acm)\n",
    "    #dv\n",
    "    tf"
   ]
  },
  {
   "cell_type": "code",
   "execution_count": null,
   "metadata": {
    "collapsed": true
   },
   "outputs": [],
   "source": [
    "a=tf.constant(1)\n",
    "b=tf.constant(2)\n",
    "c=tf.constant(3)\n",
    "two=tf.constant(2)\n",
    "four=tf.constant(4)\n",
    "nb=tf.negative(b)\n",
    "disc=tf.sqrt(tf.subtract(tf.power(b,2)-tf.multiply(tf.multiply(tf.multiply(four,a,c)))))\n",
    "quad = tf.div(tf.add(nb,disc)),tf.multiply(two,a)"
   ]
  },
  {
   "cell_type": "code",
   "execution_count": null,
   "metadata": {
    "collapsed": true
   },
   "outputs": [],
   "source": [
    "\n",
    "a=tf.constant(1)\n",
    "b=tf.constanct(2)\n",
    "c=tf.constant(4)\n",
    "two=tf.constant(2)\n",
    "four=tf.constant(4)\n",
    "#b+sqrt(b*b-4*a*c))/2*a\n",
    "with tf.Session() as sess:\n",
    "    "
   ]
  }
 ],
 "metadata": {
  "kernelspec": {
   "display_name": "Python 3",
   "language": "python",
   "name": "python3"
  },
  "language_info": {
   "codemirror_mode": {
    "name": "ipython",
    "version": 3
   },
   "file_extension": ".py",
   "mimetype": "text/x-python",
   "name": "python",
   "nbconvert_exporter": "python",
   "pygments_lexer": "ipython3",
   "version": "3.6.1"
  }
 },
 "nbformat": 4,
 "nbformat_minor": 2
}
